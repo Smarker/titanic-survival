{
 "cells": [
  {
   "cell_type": "markdown",
   "metadata": {
    "collapsed": true
   },
   "source": [
    "# Image Classification\n",
    "In this project, you'll classify images from the [CIFAR-10 dataset](https://www.cs.toronto.edu/~kriz/cifar.html).  The dataset consists of airplanes, dogs, cats, and other objects. You'll preprocess the images, then train a convolutional neural network on all the samples. The images need to be normalized and the labels need to be one-hot encoded.  You'll get to apply what you learned and build a convolutional, max pooling, dropout, and fully connected layers.  At the end, you'll get to see your neural network's predictions on the sample images.\n",
    "## Get the Data\n",
    "Run the following cell to download the [CIFAR-10 dataset for python](https://www.cs.toronto.edu/~kriz/cifar-10-python.tar.gz). "
   ]
  },
  {
   "cell_type": "code",
   "execution_count": 1,
   "metadata": {},
   "outputs": [
    {
     "name": "stdout",
     "output_type": "stream",
     "text": [
      "All files found!\n"
     ]
    }
   ],
   "source": [
    "\"\"\"\n",
    "DON'T MODIFY ANYTHING IN THIS CELL THAT IS BELOW THIS LINE\n",
    "\"\"\"\n",
    "from urllib.request import urlretrieve\n",
    "from os.path import isfile, isdir\n",
    "from tqdm import tqdm\n",
    "import problem_unittests as tests\n",
    "import tarfile\n",
    "\n",
    "cifar10_dataset_folder_path = 'cifar-10-batches-py'\n",
    "\n",
    "class DLProgress(tqdm):\n",
    "    last_block = 0\n",
    "\n",
    "    def hook(self, block_num=1, block_size=1, total_size=None):\n",
    "        self.total = total_size\n",
    "        self.update((block_num - self.last_block) * block_size)\n",
    "        self.last_block = block_num\n",
    "\n",
    "if not isfile('cifar-10-python.tar.gz'):\n",
    "    with DLProgress(unit='B', unit_scale=True, miniters=1, desc='CIFAR-10 Dataset') as pbar:\n",
    "        urlretrieve(\n",
    "            'https://www.cs.toronto.edu/~kriz/cifar-10-python.tar.gz',\n",
    "            'cifar-10-python.tar.gz',\n",
    "            pbar.hook)\n",
    "\n",
    "if not isdir(cifar10_dataset_folder_path):\n",
    "    with tarfile.open('cifar-10-python.tar.gz') as tar:\n",
    "        tar.extractall()\n",
    "        tar.close()\n",
    "\n",
    "\n",
    "tests.test_folder_path(cifar10_dataset_folder_path)"
   ]
  },
  {
   "cell_type": "markdown",
   "metadata": {},
   "source": [
    "## Explore the Data\n",
    "The dataset is broken into batches to prevent your machine from running out of memory.  The CIFAR-10 dataset consists of 5 batches, named `data_batch_1`, `data_batch_2`, etc.. Each batch contains the labels and images that are one of the following:\n",
    "* airplane\n",
    "* automobile\n",
    "* bird\n",
    "* cat\n",
    "* deer\n",
    "* dog\n",
    "* frog\n",
    "* horse\n",
    "* ship\n",
    "* truck\n",
    "\n",
    "Understanding a dataset is part of making predictions on the data.  Play around with the code cell below by changing the `batch_id` and `sample_id`. The `batch_id` is the id for a batch (1-5). The `sample_id` is the id for a image and label pair in the batch.\n",
    "\n",
    "Ask yourself \"What are all possible labels?\", \"What is the range of values for the image data?\", \"Are the labels in order or random?\".  Answers to questions like these will help you preprocess the data and end up with better predictions."
   ]
  },
  {
   "cell_type": "code",
   "execution_count": 2,
   "metadata": {},
   "outputs": [
    {
     "name": "stdout",
     "output_type": "stream",
     "text": [
      "\n",
      "Stats of batch 1:\n",
      "Samples: 10000\n",
      "Label Counts: {0: 1005, 1: 974, 2: 1032, 3: 1016, 4: 999, 5: 937, 6: 1030, 7: 1001, 8: 1025, 9: 981}\n",
      "First 20 Labels: [6, 9, 9, 4, 1, 1, 2, 7, 8, 3, 4, 7, 7, 2, 9, 9, 9, 3, 2, 6]\n",
      "\n",
      "Example of Image 7:\n",
      "Image - Min Value: 9 Max Value: 248\n",
      "Image - Shape: (32, 32, 3)\n",
      "Label - Label Id: 7 Name: horse\n"
     ]
    },
    {
     "data": {
      "image/png": "[encoded data removed]",
      "text/plain": [
       "<matplotlib.figure.Figure at 0x219494c6278>"
      ]
     },
     "metadata": {
      "image/png": {
       "height": 250,
       "width": 253
      }
     },
     "output_type": "display_data"
    }
   ],
   "source": [
    "%matplotlib inline\n",
    "%config InlineBackend.figure_format = 'retina'\n",
    "\n",
    "import helper\n",
    "import numpy as np\n",
    "\n",
    "# Explore the dataset\n",
    "batch_id = 1\n",
    "sample_id = 7\n",
    "helper.display_stats(cifar10_dataset_folder_path, batch_id, sample_id)"
   ]
  },
  {
   "cell_type": "markdown",
   "metadata": {},
   "source": [
    "## Implement Preprocess Functions\n",
    "### Normalize\n",
    "In the cell below, implement the `normalize` function to take in image data, `x`, and return it as a normalized Numpy array. The values should be in the range of 0 to 1, inclusive.  The return object should be the same shape as `x`."
   ]
  },
  {
   "cell_type": "code",
   "execution_count": 3,
   "metadata": {},
   "outputs": [
    {
     "name": "stdout",
     "output_type": "stream",
     "text": [
      "(157, 32, 32, 3)\n",
      "Tests Passed\n"
     ]
    }
   ],
   "source": [
    "def normalize(x):\n",
    "    \n",
    "    print(x.shape)\n",
    "    \"\"\"\n",
    "    Normalize a list of sample image data in the range of 0 to 1\n",
    "    : x: List of image data.  The image shape is (32, 32, 3)\n",
    "    : return: Numpy array of normalize data\n",
    "    \"\"\"\n",
    "    \n",
    "    #x.shape = (image index, 32, 32, 3)\n",
    "    #https://stackoverflow.com/questions/1735025/how-to-normalize-a-numpy-array-to-within-a-certain-range\n",
    "    \n",
    "    #take the max over x and y (axes 1 and 2) for each image\n",
    "    x_min = x.min(axis=(1, 2), keepdims=True)\n",
    "    x_max = x.max(axis=(1, 2), keepdims=True)\n",
    "    return (x - x_min)/(x_max-x_min)\n",
    "\n",
    "\n",
    "\"\"\"\n",
    "DON'T MODIFY ANYTHING IN THIS CELL THAT IS BELOW THIS LINE\n",
    "\"\"\"\n",
    "tests.test_normalize(normalize)"
   ]
  },
  {
   "cell_type": "markdown",
   "metadata": {},
   "source": [
    "### One-hot encode\n",
    "Just like the previous code cell, you'll be implementing a function for preprocessing.  This time, you'll implement the `one_hot_encode` function. The input, `x`, are a list of labels.  Implement the function to return the list of labels as One-Hot encoded Numpy array.  The possible values for labels are 0 to 9. The one-hot encoding function should return the same encoding for each value between each call to `one_hot_encode`.  Make sure to save the map of encodings outside the function.\n",
    "\n",
    "**Hint:**\n",
    "\n",
    "Look into LabelBinarizer in the preprocessing module of sklearn."
   ]
  },
  {
   "cell_type": "code",
   "execution_count": 4,
   "metadata": {},
   "outputs": [
    {
     "name": "stdout",
     "output_type": "stream",
     "text": [
      "Tests Passed\n"
     ]
    }
   ],
   "source": [
    "from sklearn import preprocessing\n",
    "\n",
    "encodings_map = {};\n",
    "\n",
    "def one_hot_encode(x):\n",
    "    \"\"\"\n",
    "    One hot encode a list of sample labels. Return a one-hot encoded vector for each label.\n",
    "    : x: List of sample Labels\n",
    "    : return: Numpy array of one-hot encoded labels\n",
    "    \"\"\"\n",
    "    \n",
    "    #x.shape = (302,)\n",
    "    classes=list(range(10))\n",
    "    lb = preprocessing.LabelBinarizer()\n",
    "    lb.fit(classes)\n",
    "    encodings_map = lb.transform(x)\n",
    "    return encodings_map\n",
    "\n",
    "\"\"\"\n",
    "DON'T MODIFY ANYTHING IN THIS CELL THAT IS BELOW THIS LINE\n",
    "\"\"\"\n",
    "tests.test_one_hot_encode(one_hot_encode)"
   ]
  },
  {
   "cell_type": "markdown",
   "metadata": {},
   "source": [
    "### Randomize Data\n",
    "As you saw from exploring the data above, the order of the samples are randomized.  It doesn't hurt to randomize it again, but you don't need to for this dataset."
   ]
  },
  {
   "cell_type": "markdown",
   "metadata": {},
   "source": [
    "## Preprocess all the data and save it\n",
    "Running the code cell below will preprocess all the CIFAR-10 data and save it to file. The code below also uses 10% of the training data for validation."
   ]
  },
  {
   "cell_type": "code",
   "execution_count": 5,
   "metadata": {},
   "outputs": [
    {
     "name": "stdout",
     "output_type": "stream",
     "text": [
      "(9000, 32, 32, 3)\n",
      "(9000, 32, 32, 3)\n",
      "(9000, 32, 32, 3)\n",
      "(9000, 32, 32, 3)\n",
      "(9000, 32, 32, 3)\n",
      "(5000, 32, 32, 3)\n",
      "(10000, 32, 32, 3)\n"
     ]
    }
   ],
   "source": [
    "\"\"\"\n",
    "DON'T MODIFY ANYTHING IN THIS CELL\n",
    "\"\"\"\n",
    "# Preprocess Training, Validation, and Testing Data\n",
    "helper.preprocess_and_save_data(cifar10_dataset_folder_path, normalize, one_hot_encode)"
   ]
  },
  {
   "cell_type": "markdown",
   "metadata": {},
   "source": [
    "# Check Point\n",
    "This is your first checkpoint.  If you ever decide to come back to this notebook or have to restart the notebook, you can start from here.  The preprocessed data has been saved to disk."
   ]
  },
  {
   "cell_type": "code",
   "execution_count": 6,
   "metadata": {
    "collapsed": true
   },
   "outputs": [],
   "source": [
    "\"\"\"\n",
    "DON'T MODIFY ANYTHING IN THIS CELL\n",
    "\"\"\"\n",
    "import pickle\n",
    "import problem_unittests as tests\n",
    "import helper\n",
    "\n",
    "# Load the Preprocessed Validation data\n",
    "valid_features, valid_labels = pickle.load(open('preprocess_validation.p', mode='rb'))"
   ]
  },
  {
   "cell_type": "markdown",
   "metadata": {},
   "source": [
    "## Build the network\n",
    "For the neural network, you'll build each layer into a function.  Most of the code you've seen has been outside of functions. To test your code more thoroughly, we require that you put each layer in a function.  This allows us to give you better feedback and test for simple mistakes using our unittests before you submit your project.\n",
    "\n",
    ">**Note:** If you're finding it hard to dedicate enough time for this course each week, we've provided a small shortcut to this part of the project. In the next couple of problems, you'll have the option to use classes from the [TensorFlow Layers](https://www.tensorflow.org/api_docs/python/tf/layers) or [TensorFlow Layers (contrib)](https://www.tensorflow.org/api_guides/python/contrib.layers) packages to build each layer, except the layers you build in the \"Convolutional and Max Pooling Layer\" section.  TF Layers is similar to Keras's and TFLearn's abstraction to layers, so it's easy to pickup.\n",
    "\n",
    ">However, if you would like to get the most out of this course, try to solve all the problems _without_ using anything from the TF Layers packages. You **can** still use classes from other packages that happen to have the same name as ones you find in TF Layers! For example, instead of using the TF Layers version of the `conv2d` class, [tf.layers.conv2d](https://www.tensorflow.org/api_docs/python/tf/layers/conv2d), you would want to use the TF Neural Network version of `conv2d`, [tf.nn.conv2d](https://www.tensorflow.org/api_docs/python/tf/nn/conv2d). \n",
    "\n",
    "Let's begin!\n",
    "\n",
    "### Input\n",
    "The neural network needs to read the image data, one-hot encoded labels, and dropout keep probability. Implement the following functions\n",
    "* Implement `neural_net_image_input`\n",
    " * Return a [TF Placeholder](https://www.tensorflow.org/api_docs/python/tf/placeholder)\n",
    " * Set the shape using `image_shape` with batch size set to `None`.\n",
    " * Name the TensorFlow placeholder \"x\" using the TensorFlow `name` parameter in the [TF Placeholder](https://www.tensorflow.org/api_docs/python/tf/placeholder).\n",
    "* Implement `neural_net_label_input`\n",
    " * Return a [TF Placeholder](https://www.tensorflow.org/api_docs/python/tf/placeholder)\n",
    " * Set the shape using `n_classes` with batch size set to `None`.\n",
    " * Name the TensorFlow placeholder \"y\" using the TensorFlow `name` parameter in the [TF Placeholder](https://www.tensorflow.org/api_docs/python/tf/placeholder).\n",
    "* Implement `neural_net_keep_prob_input`\n",
    " * Return a [TF Placeholder](https://www.tensorflow.org/api_docs/python/tf/placeholder) for dropout keep probability.\n",
    " * Name the TensorFlow placeholder \"keep_prob\" using the TensorFlow `name` parameter in the [TF Placeholder](https://www.tensorflow.org/api_docs/python/tf/placeholder).\n",
    "\n",
    "These names will be used at the end of the project to load your saved model.\n",
    "\n",
    "Note: `None` for shapes in TensorFlow allow for a dynamic size."
   ]
  },
  {
   "cell_type": "code",
   "execution_count": 17,
   "metadata": {},
   "outputs": [
    {
     "name": "stdout",
     "output_type": "stream",
     "text": [
      "Image Input Tests Passed.\n",
      "Label Input Tests Passed.\n",
      "Keep Prob Tests Passed.\n"
     ]
    }
   ],
   "source": [
    "import tensorflow as tf\n",
    "\n",
    "def neural_net_image_input(image_shape):\n",
    "    \"\"\"\n",
    "    Return a Tensor for a batch of image input\n",
    "    : image_shape: Shape of the images\n",
    "    : return: Tensor for image input.\n",
    "    \"\"\"\n",
    "    image_shape = [None,32,32,3]\n",
    "    x = tf.placeholder(tf.float32, shape=image_shape, name='x')\n",
    "    return x\n",
    "\n",
    "\n",
    "def neural_net_label_input(n_classes):\n",
    "    \"\"\"\n",
    "    Return a Tensor for a batch of label input\n",
    "    : n_classes: Number of classes\n",
    "    : return: Tensor for label input.\n",
    "    \"\"\"\n",
    "    n_classes = [None,10]\n",
    "    y = tf.placeholder(tf.float32, shape=n_classes, name='y')\n",
    "    return y\n",
    "\n",
    "\n",
    "def neural_net_keep_prob_input():\n",
    "    \"\"\"\n",
    "    Return a Tensor for keep probability\n",
    "    : return: Tensor for keep probability.\n",
    "    \"\"\"\n",
    "    keep_prob = tf.placeholder(tf.float32, name='keep_prob') # probability to keep units\n",
    "    return keep_prob\n",
    "\n",
    "\n",
    "\"\"\"\n",
    "DON'T MODIFY ANYTHING IN THIS CELL THAT IS BELOW THIS LINE\n",
    "\"\"\"\n",
    "tf.reset_default_graph()\n",
    "tests.test_nn_image_inputs(neural_net_image_input)\n",
    "tests.test_nn_label_inputs(neural_net_label_input)\n",
    "tests.test_nn_keep_prob_inputs(neural_net_keep_prob_input)"
   ]
  },
  {
   "cell_type": "markdown",
   "metadata": {},
   "source": [
    "### Convolution and Max Pooling Layer\n",
    "Convolution layers have a lot of success with images. For this code cell, you should implement the function `conv2d_maxpool` to apply convolution then max pooling:\n",
    "* Create the weight and bias using `conv_ksize`, `conv_num_outputs` and the shape of `x_tensor`.\n",
    "* Apply a convolution to `x_tensor` using weight and `conv_strides`.\n",
    " * We recommend you use same padding, but you're welcome to use any padding.\n",
    "* Add bias\n",
    "* Add a nonlinear activation to the convolution.\n",
    "* Apply Max Pooling using `pool_ksize` and `pool_strides`.\n",
    " * We recommend you use same padding, but you're welcome to use any padding.\n",
    "\n",
    "**Note:** You **can't** use [TensorFlow Layers](https://www.tensorflow.org/api_docs/python/tf/layers) or [TensorFlow Layers (contrib)](https://www.tensorflow.org/api_guides/python/contrib.layers) for **this** layer, but you can still use TensorFlow's [Neural Network](https://www.tensorflow.org/api_docs/python/tf/nn) package. You may still use the shortcut option for all the **other** layers.\n",
    "\n",
    "** Hint: **\n",
    "\n",
    "When unpacking values as an argument in Python, look into the [unpacking](https://docs.python.org/3/tutorial/controlflow.html#unpacking-argument-lists) operator. "
   ]
  },
  {
   "cell_type": "code",
   "execution_count": 36,
   "metadata": {},
   "outputs": [
    {
     "name": "stdout",
     "output_type": "stream",
     "text": [
      "Tests Passed\n"
     ]
    }
   ],
   "source": [
    "import numpy as np\n",
    "\n",
    "def conv2d_maxpool(x_tensor, conv_num_outputs, conv_ksize, conv_strides, pool_ksize, pool_strides):\n",
    "    \"\"\"\n",
    "    Apply convolution then max pooling to x_tensor\n",
    "    :param x_tensor: TensorFlow Tensor\n",
    "    :param conv_num_outputs: Number of outputs for the convolutional layer\n",
    "    :param conv_ksize: kernal size 2-D Tuple for the convolutional layer\n",
    "    :param conv_strides: Stride 2-D Tuple for convolution\n",
    "    :param pool_ksize: kernal size 2-D Tuple for pool\n",
    "    :param pool_strides: Stride 2-D Tuple for pool\n",
    "    : return: A tensor that represents convolution and max pooling of x_tensor\n",
    "    \"\"\"\n",
    "            \n",
    "    #init weight and bias\n",
    "    \n",
    "    #tf.truncated_normal has a default std of 1, which is too large. \n",
    "    #Specifically for ReLUs, initialize all biases to 0\n",
    "    #randomly set the weights of a layer using std = sqrt(2/n) \n",
    "    #with n being the number of inputs of the layer \n",
    "    #(n = kernel_width*kernel_height*depth_previous_layer).\n",
    "    weight = tf.Variable(tf.truncated_normal(\n",
    "        [conv_ksize[0], \n",
    "         conv_ksize[1], \n",
    "         x_tensor.get_shape().as_list()[3], \n",
    "         conv_num_outputs], stddev=0.1\n",
    "    )) # (height, width, input_depth, output_depth)\n",
    "    bias = tf.Variable(tf.zeros(conv_num_outputs))\n",
    "    \n",
    "    #Apply a convolution to x_tensor using weight and conv_strides\n",
    "    conv_layer = tf.nn.conv2d(\n",
    "        x_tensor, \n",
    "        weight, \n",
    "        [1, conv_strides[0], conv_strides[1], 1], \n",
    "        padding='SAME'\n",
    "    )\n",
    "    \n",
    "    #add bias\n",
    "    conv_layer = tf.nn.bias_add(conv_layer, bias)\n",
    "    \n",
    "    #add nonlinear activation to the convolution\n",
    "    conv_layer = tf.nn.relu(conv_layer)\n",
    "    \n",
    "    #apply max pooling\n",
    "    \n",
    "    conv_layer = tf.nn.max_pool(\n",
    "        conv_layer, \n",
    "        ksize=[1, pool_ksize[0], pool_ksize[1], 1], \n",
    "        strides=[1, pool_strides[0], pool_strides[1], 1],\n",
    "        padding='SAME'\n",
    "    )\n",
    "    \n",
    "    return conv_layer \n",
    "\n",
    "\n",
    "\"\"\"\n",
    "DON'T MODIFY ANYTHING IN THIS CELL THAT IS BELOW THIS LINE\n",
    "\"\"\"\n",
    "tests.test_con_pool(conv2d_maxpool)"
   ]
  },
  {
   "cell_type": "markdown",
   "metadata": {},
   "source": [
    "### Flatten Layer\n",
    "Implement the `flatten` function to change the dimension of `x_tensor` from a 4-D tensor to a 2-D tensor.  The output should be the shape (*Batch Size*, *Flattened Image Size*). Shortcut option: you can use classes from the [TensorFlow Layers](https://www.tensorflow.org/api_docs/python/tf/layers) or [TensorFlow Layers (contrib)](https://www.tensorflow.org/api_guides/python/contrib.layers) packages for this layer. For more of a challenge, only use other TensorFlow packages."
   ]
  },
  {
   "cell_type": "code",
   "execution_count": 37,
   "metadata": {},
   "outputs": [
    {
     "name": "stdout",
     "output_type": "stream",
     "text": [
      "Tests Passed\n"
     ]
    }
   ],
   "source": [
    "def flatten(x_tensor):\n",
    "    \"\"\"\n",
    "    Flatten x_tensor to (Batch Size, Flattened Image Size)\n",
    "    : x_tensor: A tensor of size (Batch Size, ...), where ... are the image dimensions.\n",
    "    : return: A tensor of size (Batch Size, Flattened Image Size).\n",
    "    \"\"\"\n",
    "    \n",
    "    #see https://www.tensorflow.org/api_docs/python/tf/reshape for reason to use -1 \n",
    "    #reason: size of the dimension is computed so that the total size remains constant\n",
    "    \n",
    "    shape = x_tensor.get_shape().as_list()\n",
    "    x_tensor = tf.reshape(tensor=x_tensor, shape=[-1, shape[1]*shape[2]*shape[3]])\n",
    "    return x_tensor\n",
    "\n",
    "\n",
    "\"\"\"\n",
    "DON'T MODIFY ANYTHING IN THIS CELL THAT IS BELOW THIS LINE\n",
    "\"\"\"\n",
    "tests.test_flatten(flatten)"
   ]
  },
  {
   "cell_type": "markdown",
   "metadata": {},
   "source": [
    "### Fully-Connected Layer\n",
    "Implement the `fully_conn` function to apply a fully connected layer to `x_tensor` with the shape (*Batch Size*, *num_outputs*). Shortcut option: you can use classes from the [TensorFlow Layers](https://www.tensorflow.org/api_docs/python/tf/layers) or [TensorFlow Layers (contrib)](https://www.tensorflow.org/api_guides/python/contrib.layers) packages for this layer. For more of a challenge, only use other TensorFlow packages."
   ]
  },
  {
   "cell_type": "code",
   "execution_count": 71,
   "metadata": {},
   "outputs": [
    {
     "name": "stdout",
     "output_type": "stream",
     "text": [
      "Tests Passed\n"
     ]
    }
   ],
   "source": [
    "def fully_conn(x_tensor, num_outputs):\n",
    "    \"\"\"\n",
    "    Apply a fully connected layer to x_tensor using weight and bias\n",
    "    : x_tensor: A 2-D tensor where the first dimension is batch size.\n",
    "    : num_outputs: The number of output that the new tensor should be.\n",
    "    : return: A 2-D tensor where the second dimension is num_outputs.\n",
    "    \"\"\"    \n",
    "    weight = tf.Variable(tf.truncated_normal([x_tensor.get_shape().as_list()[1], num_outputs], stddev=0.1))\n",
    "    bias = tf.Variable(tf.zeros(num_outputs))\n",
    "                                                  \n",
    "    x_tensor = tf.add(tf.matmul(x_tensor, weight), bias)\n",
    "    x_tensor = tf.nn.relu(x_tensor)\n",
    "    return x_tensor\n",
    "\n",
    "\n",
    "\"\"\"\n",
    "DON'T MODIFY ANYTHING IN THIS CELL THAT IS BELOW THIS LINE\n",
    "\"\"\"\n",
    "tests.test_fully_conn(fully_conn)"
   ]
  },
  {
   "cell_type": "markdown",
   "metadata": {},
   "source": [
    "### Output Layer\n",
    "Implement the `output` function to apply a fully connected layer to `x_tensor` with the shape (*Batch Size*, *num_outputs*). Shortcut option: you can use classes from the [TensorFlow Layers](https://www.tensorflow.org/api_docs/python/tf/layers) or [TensorFlow Layers (contrib)](https://www.tensorflow.org/api_guides/python/contrib.layers) packages for this layer. For more of a challenge, only use other TensorFlow packages.\n",
    "\n",
    "**Note:** Activation, softmax, or cross entropy should **not** be applied to this."
   ]
  },
  {
   "cell_type": "code",
   "execution_count": 74,
   "metadata": {},
   "outputs": [
    {
     "name": "stdout",
     "output_type": "stream",
     "text": [
      "Tests Passed\n"
     ]
    }
   ],
   "source": [
    "def output(x_tensor, num_outputs):\n",
    "    \"\"\"\n",
    "    Apply a output layer to x_tensor using weight and bias\n",
    "    : x_tensor: A 2-D tensor where the first dimension is batch size.\n",
    "    : num_outputs: The number of output that the new tensor should be.\n",
    "    : return: A 2-D tensor where the second dimension is num_outputs.\n",
    "    \"\"\"\n",
    "    weight = tf.Variable(tf.truncated_normal([x_tensor.get_shape().as_list()[1], num_outputs], stddev=0.1))\n",
    "    bias = tf.Variable(tf.zeros(num_outputs))\n",
    "                                                  \n",
    "    x_tensor = tf.add(tf.matmul(x_tensor, weight), bias)\n",
    "    return x_tensor\n",
    "\n",
    "\n",
    "\"\"\"\n",
    "DON'T MODIFY ANYTHING IN THIS CELL THAT IS BELOW THIS LINE\n",
    "\"\"\"\n",
    "tests.test_output(output)"
   ]
  },
  {
   "cell_type": "markdown",
   "metadata": {},
   "source": [
    "### Create Convolutional Model\n",
    "Implement the function `conv_net` to create a convolutional neural network model. The function takes in a batch of images, `x`, and outputs logits.  Use the layers you created above to create this model:\n",
    "\n",
    "* Apply 1, 2, or 3 Convolution and Max Pool layers\n",
    "* Apply a Flatten Layer\n",
    "* Apply 1, 2, or 3 Fully Connected Layers\n",
    "* Apply an Output Layer\n",
    "* Return the output\n",
    "* Apply [TensorFlow's Dropout](https://www.tensorflow.org/api_docs/python/tf/nn/dropout) to one or more layers in the model using `keep_prob`. "
   ]
  },
  {
   "cell_type": "code",
   "execution_count": 85,
   "metadata": {},
   "outputs": [
    {
     "name": "stdout",
     "output_type": "stream",
     "text": [
      "Neural Network Built!\n"
     ]
    }
   ],
   "source": [
    "def conv_net(x, keep_prob):\n",
    "    \"\"\"\n",
    "    Create a convolutional neural network model\n",
    "    : x: Placeholder tensor that holds image data.\n",
    "    : keep_prob: Placeholder tensor that hold dropout keep probability.\n",
    "    : return: Tensor that represents logits\n",
    "    \"\"\"\n",
    "    # TODO: Apply 1, 2, or 3 Convolution and Max Pool layers\n",
    "    #    Play around with different number of outputs, kernel size and stride\n",
    "    # Function Definition from Above:\n",
    "    #    conv2d_maxpool(x_tensor, conv_num_outputs, conv_ksize, conv_strides, pool_ksize, pool_strides)\n",
    "        \n",
    "    # https://discussions.udacity.com/t/tips-for-image-classification-project/238506\n",
    "    #double the number of filters each time\n",
    "    x = conv2d_maxpool(x, 128, (3, 3), (2, 2), (4, 4), (2, 2))    \n",
    "    x = conv2d_maxpool(x, 256, (3, 3), (2, 2), (4, 4), (2, 2))\n",
    "            \n",
    "    # TODO: Apply a Flatten Layer\n",
    "    # Function Definition from Above:\n",
    "    #flatten(x_tensor)\n",
    "    x = flatten(x)    \n",
    "\n",
    "    # TODO: Apply 1, 2, or 3 Fully Connected Layers\n",
    "    #    Play around with different number of outputs\n",
    "    # Function Definition from Above:\n",
    "    #   fully_conn(x_tensor, num_outputs)\n",
    "    \n",
    "    #use decreasing number of hidden units (for example, 512, 256, and 128)\n",
    "    x = fully_conn(x, 256)\n",
    "    x = tf.nn.dropout(x, keep_prob)\n",
    "    \n",
    "    x = fully_conn(x, 128)\n",
    "    x = tf.nn.dropout(x, keep_prob)\n",
    "    \n",
    "    \n",
    "    # TODO: Apply an Output Layer\n",
    "    #    Set this to the number of classes\n",
    "    # Function Definition from Above:\n",
    "    #   output(x_tensor, num_outputs)\n",
    "    x = output(x, 10)\n",
    "    \n",
    "    \n",
    "    # TODO: return output\n",
    "    return x\n",
    "\n",
    "\n",
    "\"\"\"\n",
    "DON'T MODIFY ANYTHING IN THIS CELL THAT IS BELOW THIS LINE\n",
    "\"\"\"\n",
    "\n",
    "##############################\n",
    "## Build the Neural Network ##\n",
    "##############################\n",
    "\n",
    "# Remove previous weights, bias, inputs, etc..\n",
    "tf.reset_default_graph()\n",
    "\n",
    "# Inputs\n",
    "x = neural_net_image_input((32, 32, 3))\n",
    "y = neural_net_label_input(10)\n",
    "keep_prob = neural_net_keep_prob_input()\n",
    "\n",
    "# Model\n",
    "logits = conv_net(x, keep_prob)\n",
    "\n",
    "# Name logits Tensor, so that is can be loaded from disk after training\n",
    "logits = tf.identity(logits, name='logits')\n",
    "\n",
    "# Loss and Optimizer\n",
    "cost = tf.reduce_mean(tf.nn.softmax_cross_entropy_with_logits(logits=logits, labels=y))\n",
    "optimizer = tf.train.AdamOptimizer().minimize(cost)\n",
    "\n",
    "# Accuracy\n",
    "correct_pred = tf.equal(tf.argmax(logits, 1), tf.argmax(y, 1))\n",
    "accuracy = tf.reduce_mean(tf.cast(correct_pred, tf.float32), name='accuracy')\n",
    "\n",
    "tests.test_conv_net(conv_net)"
   ]
  },
  {
   "cell_type": "markdown",
   "metadata": {},
   "source": [
    "## Train the Neural Network\n",
    "### Single Optimization\n",
    "Implement the function `train_neural_network` to do a single optimization.  The optimization should use `optimizer` to optimize in `session` with a `feed_dict` of the following:\n",
    "* `x` for image input\n",
    "* `y` for labels\n",
    "* `keep_prob` for keep probability for dropout\n",
    "\n",
    "This function will be called for each batch, so `tf.global_variables_initializer()` has already been called.\n",
    "\n",
    "Note: Nothing needs to be returned. This function is only optimizing the neural network."
   ]
  },
  {
   "cell_type": "code",
   "execution_count": 86,
   "metadata": {},
   "outputs": [
    {
     "name": "stdout",
     "output_type": "stream",
     "text": [
      "Tests Passed\n"
     ]
    }
   ],
   "source": [
    "def train_neural_network(session, optimizer, keep_probability, feature_batch, label_batch):\n",
    "    \"\"\"\n",
    "    Optimize the session on a batch of images and labels\n",
    "    : session: Current TensorFlow session\n",
    "    : optimizer: TensorFlow optimizer function\n",
    "    : keep_probability: keep probability\n",
    "    : feature_batch: Batch of Numpy image data\n",
    "    : label_batch: Batch of Numpy label data\n",
    "    \"\"\"\n",
    "    session.run(optimizer, feed_dict={x: feature_batch, y: label_batch, keep_prob: keep_probability})\n",
    "    pass\n",
    "\n",
    "\n",
    "\"\"\"\n",
    "DON'T MODIFY ANYTHING IN THIS CELL THAT IS BELOW THIS LINE\n",
    "\"\"\"\n",
    "tests.test_train_nn(train_neural_network)"
   ]
  },
  {
   "cell_type": "markdown",
   "metadata": {},
   "source": [
    "### Show Stats\n",
    "Implement the function `print_stats` to print loss and validation accuracy.  Use the global variables `valid_features` and `valid_labels` to calculate validation accuracy.  Use a keep probability of `1.0` to calculate the loss and validation accuracy."
   ]
  },
  {
   "cell_type": "code",
   "execution_count": 87,
   "metadata": {
    "collapsed": true
   },
   "outputs": [],
   "source": [
    "def print_stats(session, feature_batch, label_batch, cost, accuracy):\n",
    "    \"\"\"\n",
    "    Print information about loss and validation accuracy\n",
    "    : session: Current TensorFlow session\n",
    "    : feature_batch: Batch of Numpy image data\n",
    "    : label_batch: Batch of Numpy label data\n",
    "    : cost: TensorFlow cost function\n",
    "    : accuracy: TensorFlow accuracy function\n",
    "    \"\"\"\n",
    "    loss = session.run(cost, feed_dict={x: feature_batch, y: label_batch, keep_prob: 1.0})\n",
    "    validation_accuracy = session.run(accuracy, feed_dict={x: valid_features, y: valid_labels, keep_prob: 1.0})\n",
    "    print('loss: {}, accuracy: {}'.format(loss, validation_accuracy))\n",
    "    pass"
   ]
  },
  {
   "cell_type": "markdown",
   "metadata": {},
   "source": [
    "### Hyperparameters\n",
    "Tune the following parameters:\n",
    "* Set `epochs` to the number of iterations until the network stops learning or start overfitting\n",
    "* Set `batch_size` to the highest number that your machine has memory for.  Most people set them to common sizes of memory:\n",
    " * 64\n",
    " * 128\n",
    " * 256\n",
    " * ...\n",
    "* Set `keep_probability` to the probability of keeping a node using dropout"
   ]
  },
  {
   "cell_type": "code",
   "execution_count": 90,
   "metadata": {
    "collapsed": true
   },
   "outputs": [],
   "source": [
    "# TODO: Tune Parameters\n",
    "epochs = 30\n",
    "batch_size = 512\n",
    "keep_probability = .7"
   ]
  },
  {
   "cell_type": "markdown",
   "metadata": {},
   "source": [
    "### Train on a Single CIFAR-10 Batch\n",
    "Instead of training the neural network on all the CIFAR-10 batches of data, let's use a single batch. This should save time while you iterate on the model to get a better accuracy.  Once the final validation accuracy is 50% or greater, run the model on all the data in the next section."
   ]
  },
  {
   "cell_type": "code",
   "execution_count": 91,
   "metadata": {},
   "outputs": [
    {
     "name": "stdout",
     "output_type": "stream",
     "text": [
      "Checking the Training on a Single Batch...\n",
      "Epoch  1, CIFAR-10 Batch 1:  loss: 2.2011942863464355, accuracy: 0.22380000352859497\n",
      "Epoch  2, CIFAR-10 Batch 1:  loss: 2.0314857959747314, accuracy: 0.28140002489089966\n",
      "Epoch  3, CIFAR-10 Batch 1:  loss: 1.859403133392334, accuracy: 0.33319997787475586\n",
      "Epoch  4, CIFAR-10 Batch 1:  loss: 1.7021427154541016, accuracy: 0.3887999653816223\n",
      "Epoch  5, CIFAR-10 Batch 1:  loss: 1.5843132734298706, accuracy: 0.42319998145103455\n",
      "Epoch  6, CIFAR-10 Batch 1:  loss: 1.4708377122879028, accuracy: 0.4591999650001526\n",
      "Epoch  7, CIFAR-10 Batch 1:  loss: 1.4268360137939453, accuracy: 0.4609999358654022\n",
      "Epoch  8, CIFAR-10 Batch 1:  loss: 1.3314001560211182, accuracy: 0.4869999289512634\n",
      "Epoch  9, CIFAR-10 Batch 1:  loss: 1.2604731321334839, accuracy: 0.48819994926452637\n",
      "Epoch 10, CIFAR-10 Batch 1:  loss: 1.2037409543991089, accuracy: 0.5021999478340149\n",
      "Epoch 11, CIFAR-10 Batch 1:  loss: 1.1511015892028809, accuracy: 0.5043999552726746\n",
      "Epoch 12, CIFAR-10 Batch 1:  loss: 1.0898683071136475, accuracy: 0.5359998941421509\n",
      "Epoch 13, CIFAR-10 Batch 1:  loss: 1.0085325241088867, accuracy: 0.5387999415397644\n",
      "Epoch 14, CIFAR-10 Batch 1:  loss: 0.978867769241333, accuracy: 0.53739994764328\n",
      "Epoch 15, CIFAR-10 Batch 1:  loss: 0.9453838467597961, accuracy: 0.5449999570846558\n",
      "Epoch 16, CIFAR-10 Batch 1:  loss: 0.8565880656242371, accuracy: 0.561199963092804\n",
      "Epoch 17, CIFAR-10 Batch 1:  loss: 0.7860217094421387, accuracy: 0.5687999129295349\n",
      "Epoch 18, CIFAR-10 Batch 1:  loss: 0.7824766039848328, accuracy: 0.5579999089241028\n",
      "Epoch 19, CIFAR-10 Batch 1:  loss: 0.7201755046844482, accuracy: 0.5655999183654785\n",
      "Epoch 20, CIFAR-10 Batch 1:  loss: 0.6619881391525269, accuracy: 0.5739998817443848\n",
      "Epoch 21, CIFAR-10 Batch 1:  loss: 0.6738877296447754, accuracy: 0.5689998865127563\n",
      "Epoch 22, CIFAR-10 Batch 1:  loss: 0.583191454410553, accuracy: 0.5877999663352966\n",
      "Epoch 23, CIFAR-10 Batch 1:  loss: 0.5322846174240112, accuracy: 0.5877999663352966\n",
      "Epoch 24, CIFAR-10 Batch 1:  loss: 0.49821174144744873, accuracy: 0.5877999067306519\n",
      "Epoch 25, CIFAR-10 Batch 1:  loss: 0.6413388252258301, accuracy: 0.5235999822616577\n",
      "Epoch 26, CIFAR-10 Batch 1:  loss: 0.5574935078620911, accuracy: 0.5593999028205872\n",
      "Epoch 27, CIFAR-10 Batch 1:  loss: 0.45507413148880005, accuracy: 0.5807998776435852\n",
      "Epoch 28, CIFAR-10 Batch 1:  loss: 0.6420724987983704, accuracy: 0.5169999599456787\n",
      "Epoch 29, CIFAR-10 Batch 1:  loss: 0.43641340732574463, accuracy: 0.5641999244689941\n",
      "Epoch 30, CIFAR-10 Batch 1:  loss: 0.33850541710853577, accuracy: 0.58079993724823\n"
     ]
    }
   ],
   "source": [
    "\"\"\"\n",
    "DON'T MODIFY ANYTHING IN THIS CELL\n",
    "\"\"\"\n",
    "print('Checking the Training on a Single Batch...')\n",
    "with tf.Session() as sess:\n",
    "    # Initializing the variables\n",
    "    sess.run(tf.global_variables_initializer())\n",
    "    \n",
    "    # Training cycle\n",
    "    for epoch in range(epochs):\n",
    "        batch_i = 1\n",
    "        for batch_features, batch_labels in helper.load_preprocess_training_batch(batch_i, batch_size):\n",
    "            train_neural_network(sess, optimizer, keep_probability, batch_features, batch_labels)\n",
    "        print('Epoch {:>2}, CIFAR-10 Batch {}:  '.format(epoch + 1, batch_i), end='')\n",
    "        print_stats(sess, batch_features, batch_labels, cost, accuracy)"
   ]
  },
  {
   "cell_type": "markdown",
   "metadata": {},
   "source": [
    "### Fully Train the Model\n",
    "Now that you got a good accuracy with a single CIFAR-10 batch, try it with all five batches."
   ]
  },
  {
   "cell_type": "code",
   "execution_count": 92,
   "metadata": {},
   "outputs": [
    {
     "name": "stdout",
     "output_type": "stream",
     "text": [
      "Training...\n",
      "Epoch  1, CIFAR-10 Batch 1:  loss: 2.276914358139038, accuracy: 0.18539999425411224\n",
      "Epoch  1, CIFAR-10 Batch 2:  loss: 2.135986089706421, accuracy: 0.26420000195503235\n",
      "Epoch  1, CIFAR-10 Batch 3:  loss: 1.879477620124817, accuracy: 0.2791999876499176\n",
      "Epoch  1, CIFAR-10 Batch 4:  loss: 1.7540857791900635, accuracy: 0.3341999650001526\n",
      "Epoch  1, CIFAR-10 Batch 5:  loss: 1.736138939857483, accuracy: 0.3757999837398529\n",
      "Epoch  2, CIFAR-10 Batch 1:  loss: 1.7031254768371582, accuracy: 0.38739994168281555\n",
      "Epoch  2, CIFAR-10 Batch 2:  loss: 1.5801994800567627, accuracy: 0.41759997606277466\n",
      "Epoch  2, CIFAR-10 Batch 3:  loss: 1.4809945821762085, accuracy: 0.43080002069473267\n",
      "Epoch  2, CIFAR-10 Batch 4:  loss: 1.422499418258667, accuracy: 0.45979994535446167\n",
      "Epoch  2, CIFAR-10 Batch 5:  loss: 1.4091719388961792, accuracy: 0.47519999742507935\n",
      "Epoch  3, CIFAR-10 Batch 1:  loss: 1.4114627838134766, accuracy: 0.48639994859695435\n",
      "Epoch  3, CIFAR-10 Batch 2:  loss: 1.3922955989837646, accuracy: 0.5005999803543091\n",
      "Epoch  3, CIFAR-10 Batch 3:  loss: 1.2381213903427124, accuracy: 0.5165999531745911\n",
      "Epoch  3, CIFAR-10 Batch 4:  loss: 1.2381634712219238, accuracy: 0.5197999477386475\n",
      "Epoch  3, CIFAR-10 Batch 5:  loss: 1.2373249530792236, accuracy: 0.5185999274253845\n",
      "Epoch  4, CIFAR-10 Batch 1:  loss: 1.298461675643921, accuracy: 0.5161999464035034\n",
      "Epoch  4, CIFAR-10 Batch 2:  loss: 1.2023138999938965, accuracy: 0.5531999468803406\n",
      "Epoch  4, CIFAR-10 Batch 3:  loss: 1.14411199092865, accuracy: 0.5483999252319336\n",
      "Epoch  4, CIFAR-10 Batch 4:  loss: 1.0902092456817627, accuracy: 0.5623999834060669\n",
      "Epoch  4, CIFAR-10 Batch 5:  loss: 1.1382982730865479, accuracy: 0.5621998906135559\n",
      "Epoch  5, CIFAR-10 Batch 1:  loss: 1.140892744064331, accuracy: 0.5587999820709229\n",
      "Epoch  5, CIFAR-10 Batch 2:  loss: 1.1035531759262085, accuracy: 0.584399938583374\n",
      "Epoch  5, CIFAR-10 Batch 3:  loss: 1.0351332426071167, accuracy: 0.5866000056266785\n",
      "Epoch  5, CIFAR-10 Batch 4:  loss: 0.9854328036308289, accuracy: 0.5841999053955078\n",
      "Epoch  5, CIFAR-10 Batch 5:  loss: 1.066131830215454, accuracy: 0.5607998967170715\n",
      "Epoch  6, CIFAR-10 Batch 1:  loss: 1.0443586111068726, accuracy: 0.5849999189376831\n",
      "Epoch  6, CIFAR-10 Batch 2:  loss: 1.0724761486053467, accuracy: 0.6029999256134033\n",
      "Epoch  6, CIFAR-10 Batch 3:  loss: 0.9655593633651733, accuracy: 0.6057999134063721\n",
      "Epoch  6, CIFAR-10 Batch 4:  loss: 0.8906787633895874, accuracy: 0.6111998558044434\n",
      "Epoch  6, CIFAR-10 Batch 5:  loss: 1.0088756084442139, accuracy: 0.5775999426841736\n",
      "Epoch  7, CIFAR-10 Batch 1:  loss: 0.9908758401870728, accuracy: 0.5995998978614807\n",
      "Epoch  7, CIFAR-10 Batch 2:  loss: 0.9863134622573853, accuracy: 0.612799882888794\n",
      "Epoch  7, CIFAR-10 Batch 3:  loss: 0.8839400410652161, accuracy: 0.6179999113082886\n",
      "Epoch  7, CIFAR-10 Batch 4:  loss: 0.8536553382873535, accuracy: 0.6271999478340149\n",
      "Epoch  7, CIFAR-10 Batch 5:  loss: 0.8842892646789551, accuracy: 0.6297999024391174\n",
      "Epoch  8, CIFAR-10 Batch 1:  loss: 0.9254361391067505, accuracy: 0.6155998706817627\n",
      "Epoch  8, CIFAR-10 Batch 2:  loss: 0.8949000239372253, accuracy: 0.6383998990058899\n",
      "Epoch  8, CIFAR-10 Batch 3:  loss: 0.8322796821594238, accuracy: 0.6241998672485352\n",
      "Epoch  8, CIFAR-10 Batch 4:  loss: 0.8025193810462952, accuracy: 0.6283999085426331\n",
      "Epoch  8, CIFAR-10 Batch 5:  loss: 0.8375000953674316, accuracy: 0.6317999362945557\n",
      "Epoch  9, CIFAR-10 Batch 1:  loss: 0.8722145557403564, accuracy: 0.621999979019165\n",
      "Epoch  9, CIFAR-10 Batch 2:  loss: 0.8240588307380676, accuracy: 0.6495998501777649\n",
      "Epoch  9, CIFAR-10 Batch 3:  loss: 0.7247192859649658, accuracy: 0.6415998935699463\n",
      "Epoch  9, CIFAR-10 Batch 4:  loss: 0.7248960137367249, accuracy: 0.6341999173164368\n",
      "Epoch  9, CIFAR-10 Batch 5:  loss: 0.7915566563606262, accuracy: 0.6403998732566833\n",
      "Epoch 10, CIFAR-10 Batch 1:  loss: 0.7877601385116577, accuracy: 0.6435998678207397\n",
      "Epoch 10, CIFAR-10 Batch 2:  loss: 0.8083630800247192, accuracy: 0.6569998860359192\n",
      "Epoch 10, CIFAR-10 Batch 3:  loss: 0.6727787852287292, accuracy: 0.650999903678894\n",
      "Epoch 10, CIFAR-10 Batch 4:  loss: 0.6934352517127991, accuracy: 0.6365998983383179\n",
      "Epoch 10, CIFAR-10 Batch 5:  loss: 0.7642441987991333, accuracy: 0.6365998983383179\n",
      "Epoch 11, CIFAR-10 Batch 1:  loss: 0.7680138349533081, accuracy: 0.6419999003410339\n",
      "Epoch 11, CIFAR-10 Batch 2:  loss: 0.7231824398040771, accuracy: 0.6533998847007751\n",
      "Epoch 11, CIFAR-10 Batch 3:  loss: 0.6486546993255615, accuracy: 0.650399923324585\n",
      "Epoch 11, CIFAR-10 Batch 4:  loss: 0.6321055293083191, accuracy: 0.6609998941421509\n",
      "Epoch 11, CIFAR-10 Batch 5:  loss: 0.6802390217781067, accuracy: 0.6511998772621155\n",
      "Epoch 12, CIFAR-10 Batch 1:  loss: 0.7197625041007996, accuracy: 0.6499998569488525\n",
      "Epoch 12, CIFAR-10 Batch 2:  loss: 0.7246613502502441, accuracy: 0.6505998969078064\n",
      "Epoch 12, CIFAR-10 Batch 3:  loss: 0.6530395150184631, accuracy: 0.6479999423027039\n",
      "Epoch 12, CIFAR-10 Batch 4:  loss: 0.6280567646026611, accuracy: 0.650199830532074\n",
      "Epoch 12, CIFAR-10 Batch 5:  loss: 0.7217029929161072, accuracy: 0.6337999105453491\n",
      "Epoch 13, CIFAR-10 Batch 1:  loss: 0.6831371188163757, accuracy: 0.6489999294281006\n",
      "Epoch 13, CIFAR-10 Batch 2:  loss: 0.6763399243354797, accuracy: 0.6581999063491821\n",
      "Epoch 13, CIFAR-10 Batch 3:  loss: 0.5964940786361694, accuracy: 0.6489998698234558\n",
      "Epoch 13, CIFAR-10 Batch 4:  loss: 0.6041342616081238, accuracy: 0.6537998914718628\n",
      "Epoch 13, CIFAR-10 Batch 5:  loss: 0.6356783509254456, accuracy: 0.6635999083518982\n",
      "Epoch 14, CIFAR-10 Batch 1:  loss: 0.6475220918655396, accuracy: 0.6589998602867126\n",
      "Epoch 14, CIFAR-10 Batch 2:  loss: 0.6441325545310974, accuracy: 0.6643999218940735\n",
      "Epoch 14, CIFAR-10 Batch 3:  loss: 0.5183700323104858, accuracy: 0.6673998832702637\n",
      "Epoch 14, CIFAR-10 Batch 4:  loss: 0.5673936605453491, accuracy: 0.6625999212265015\n",
      "Epoch 14, CIFAR-10 Batch 5:  loss: 0.5851877927780151, accuracy: 0.6715999245643616\n",
      "Epoch 15, CIFAR-10 Batch 1:  loss: 0.5991492867469788, accuracy: 0.6673998832702637\n",
      "Epoch 15, CIFAR-10 Batch 2:  loss: 0.5992496609687805, accuracy: 0.6553999185562134\n",
      "Epoch 15, CIFAR-10 Batch 3:  loss: 0.4972396194934845, accuracy: 0.6711998581886292\n",
      "Epoch 15, CIFAR-10 Batch 4:  loss: 0.502729058265686, accuracy: 0.6739998459815979\n",
      "Epoch 15, CIFAR-10 Batch 5:  loss: 0.5527985095977783, accuracy: 0.6779998540878296\n",
      "Epoch 16, CIFAR-10 Batch 1:  loss: 0.5575947761535645, accuracy: 0.6681999564170837\n",
      "Epoch 16, CIFAR-10 Batch 2:  loss: 0.5454156398773193, accuracy: 0.6715998649597168\n",
      "Epoch 16, CIFAR-10 Batch 3:  loss: 0.46387454867362976, accuracy: 0.6691998839378357\n",
      "Epoch 16, CIFAR-10 Batch 4:  loss: 0.48264703154563904, accuracy: 0.6801998615264893\n",
      "Epoch 16, CIFAR-10 Batch 5:  loss: 0.5155529379844666, accuracy: 0.675399899482727\n",
      "Epoch 17, CIFAR-10 Batch 1:  loss: 0.5370136499404907, accuracy: 0.6731998920440674\n",
      "Epoch 17, CIFAR-10 Batch 2:  loss: 0.5547357797622681, accuracy: 0.6595999002456665\n",
      "Epoch 17, CIFAR-10 Batch 3:  loss: 0.4431164860725403, accuracy: 0.673399806022644\n",
      "Epoch 17, CIFAR-10 Batch 4:  loss: 0.46658051013946533, accuracy: 0.6707998514175415\n",
      "Epoch 17, CIFAR-10 Batch 5:  loss: 0.46932002902030945, accuracy: 0.6849998831748962\n",
      "Epoch 18, CIFAR-10 Batch 1:  loss: 0.5267560482025146, accuracy: 0.6661998629570007\n",
      "Epoch 18, CIFAR-10 Batch 2:  loss: 0.494912326335907, accuracy: 0.6525998711585999\n",
      "Epoch 18, CIFAR-10 Batch 3:  loss: 0.45847100019454956, accuracy: 0.6629998683929443\n",
      "Epoch 18, CIFAR-10 Batch 4:  loss: 0.44807660579681396, accuracy: 0.660399854183197\n",
      "Epoch 18, CIFAR-10 Batch 5:  loss: 0.45925256609916687, accuracy: 0.6899998188018799\n",
      "Epoch 19, CIFAR-10 Batch 1:  loss: 0.5397540926933289, accuracy: 0.6619998216629028\n",
      "Epoch 19, CIFAR-10 Batch 2:  loss: 0.4728389084339142, accuracy: 0.6549999117851257\n",
      "Epoch 19, CIFAR-10 Batch 3:  loss: 0.4106256365776062, accuracy: 0.675399899482727\n",
      "Epoch 19, CIFAR-10 Batch 4:  loss: 0.41880422830581665, accuracy: 0.6667999029159546\n",
      "Epoch 19, CIFAR-10 Batch 5:  loss: 0.42435115575790405, accuracy: 0.6891998648643494\n",
      "Epoch 20, CIFAR-10 Batch 1:  loss: 0.4489509165287018, accuracy: 0.6779998540878296\n",
      "Epoch 20, CIFAR-10 Batch 2:  loss: 0.4715747833251953, accuracy: 0.6809998154640198\n",
      "Epoch 20, CIFAR-10 Batch 3:  loss: 0.39901354908943176, accuracy: 0.6725998520851135\n",
      "Epoch 20, CIFAR-10 Batch 4:  loss: 0.39451444149017334, accuracy: 0.6611998677253723\n",
      "Epoch 20, CIFAR-10 Batch 5:  loss: 0.4309037923812866, accuracy: 0.6807998418807983\n",
      "Epoch 21, CIFAR-10 Batch 1:  loss: 0.4098973870277405, accuracy: 0.6891999244689941\n",
      "Epoch 21, CIFAR-10 Batch 2:  loss: 0.5484055280685425, accuracy: 0.6281998753547668\n",
      "Epoch 21, CIFAR-10 Batch 3:  loss: 0.41066479682922363, accuracy: 0.6677998900413513\n",
      "Epoch 21, CIFAR-10 Batch 4:  loss: 0.34686723351478577, accuracy: 0.6857998371124268\n",
      "Epoch 21, CIFAR-10 Batch 5:  loss: 0.377361536026001, accuracy: 0.6873998641967773\n",
      "Epoch 22, CIFAR-10 Batch 1:  loss: 0.434596985578537, accuracy: 0.6775998473167419\n",
      "Epoch 22, CIFAR-10 Batch 2:  loss: 0.49033764004707336, accuracy: 0.6431999206542969\n",
      "Epoch 22, CIFAR-10 Batch 3:  loss: 0.3744778335094452, accuracy: 0.6741999387741089\n",
      "Epoch 22, CIFAR-10 Batch 4:  loss: 0.35672345757484436, accuracy: 0.6721998453140259\n",
      "Epoch 22, CIFAR-10 Batch 5:  loss: 0.3426002264022827, accuracy: 0.6827998757362366\n",
      "Epoch 23, CIFAR-10 Batch 1:  loss: 0.45991575717926025, accuracy: 0.6701998710632324\n",
      "Epoch 23, CIFAR-10 Batch 2:  loss: 0.4701327681541443, accuracy: 0.6421998739242554\n",
      "Epoch 23, CIFAR-10 Batch 3:  loss: 0.3093542754650116, accuracy: 0.6831998825073242\n",
      "Epoch 23, CIFAR-10 Batch 4:  loss: 0.37301403284072876, accuracy: 0.6709998846054077\n",
      "Epoch 23, CIFAR-10 Batch 5:  loss: 0.33774077892303467, accuracy: 0.6839998364448547\n",
      "Epoch 24, CIFAR-10 Batch 1:  loss: 0.3911694586277008, accuracy: 0.6809998750686646\n",
      "Epoch 24, CIFAR-10 Batch 2:  loss: 0.42008262872695923, accuracy: 0.6641998291015625\n",
      "Epoch 24, CIFAR-10 Batch 3:  loss: 0.2970157563686371, accuracy: 0.6831998825073242\n",
      "Epoch 24, CIFAR-10 Batch 4:  loss: 0.32939520478248596, accuracy: 0.6813998818397522\n",
      "Epoch 24, CIFAR-10 Batch 5:  loss: 0.31287625432014465, accuracy: 0.6805998682975769\n",
      "Epoch 25, CIFAR-10 Batch 1:  loss: 0.33932334184646606, accuracy: 0.6891998648643494\n",
      "Epoch 25, CIFAR-10 Batch 2:  loss: 0.40750885009765625, accuracy: 0.669999897480011\n",
      "Epoch 25, CIFAR-10 Batch 3:  loss: 0.26389846205711365, accuracy: 0.686199963092804\n",
      "Epoch 25, CIFAR-10 Batch 4:  loss: 0.28972047567367554, accuracy: 0.6849998235702515\n",
      "Epoch 25, CIFAR-10 Batch 5:  loss: 0.2755575478076935, accuracy: 0.6905998587608337\n",
      "Epoch 26, CIFAR-10 Batch 1:  loss: 0.31881803274154663, accuracy: 0.6955999135971069\n",
      "Epoch 26, CIFAR-10 Batch 2:  loss: 0.40621834993362427, accuracy: 0.656799852848053\n",
      "Epoch 26, CIFAR-10 Batch 3:  loss: 0.31491923332214355, accuracy: 0.6611998081207275\n",
      "Epoch 26, CIFAR-10 Batch 4:  loss: 0.30925291776657104, accuracy: 0.6789999008178711\n",
      "Epoch 26, CIFAR-10 Batch 5:  loss: 0.28369730710983276, accuracy: 0.6871998310089111\n",
      "Epoch 27, CIFAR-10 Batch 1:  loss: 0.31475603580474854, accuracy: 0.6985998749732971\n",
      "Epoch 27, CIFAR-10 Batch 2:  loss: 0.3532607853412628, accuracy: 0.6599999070167542\n",
      "Epoch 27, CIFAR-10 Batch 3:  loss: 0.2567400336265564, accuracy: 0.6711999177932739\n",
      "Epoch 27, CIFAR-10 Batch 4:  loss: 0.29833054542541504, accuracy: 0.6771998405456543\n",
      "Epoch 27, CIFAR-10 Batch 5:  loss: 0.2617822289466858, accuracy: 0.6853998899459839\n",
      "Epoch 28, CIFAR-10 Batch 1:  loss: 0.32369595766067505, accuracy: 0.6905998587608337\n",
      "Epoch 28, CIFAR-10 Batch 2:  loss: 0.3349999487400055, accuracy: 0.6543998718261719\n",
      "Epoch 28, CIFAR-10 Batch 3:  loss: 0.2644730508327484, accuracy: 0.66159987449646\n",
      "Epoch 28, CIFAR-10 Batch 4:  loss: 0.27547669410705566, accuracy: 0.6897998452186584\n",
      "Epoch 28, CIFAR-10 Batch 5:  loss: 0.24754756689071655, accuracy: 0.6809998750686646\n",
      "Epoch 29, CIFAR-10 Batch 1:  loss: 0.28180065751075745, accuracy: 0.6903998851776123\n",
      "Epoch 29, CIFAR-10 Batch 2:  loss: 0.28173828125, accuracy: 0.6711999177932739\n",
      "Epoch 29, CIFAR-10 Batch 3:  loss: 0.23509275913238525, accuracy: 0.6571999192237854\n",
      "Epoch 29, CIFAR-10 Batch 4:  loss: 0.2554425299167633, accuracy: 0.6837998628616333\n",
      "Epoch 29, CIFAR-10 Batch 5:  loss: 0.23356826603412628, accuracy: 0.6907998323440552\n",
      "Epoch 30, CIFAR-10 Batch 1:  loss: 0.2538534998893738, accuracy: 0.6967998743057251\n",
      "Epoch 30, CIFAR-10 Batch 2:  loss: 0.23922958970069885, accuracy: 0.6815999150276184\n",
      "Epoch 30, CIFAR-10 Batch 3:  loss: 0.20971174538135529, accuracy: 0.6759998798370361\n",
      "Epoch 30, CIFAR-10 Batch 4:  loss: 0.24706855416297913, accuracy: 0.6815999746322632\n",
      "Epoch 30, CIFAR-10 Batch 5:  loss: 0.2355351746082306, accuracy: 0.6777998805046082\n"
     ]
    }
   ],
   "source": [
    "\"\"\"\n",
    "DON'T MODIFY ANYTHING IN THIS CELL\n",
    "\"\"\"\n",
    "save_model_path = './image_classification'\n",
    "\n",
    "print('Training...')\n",
    "with tf.Session() as sess:\n",
    "    # Initializing the variables\n",
    "    sess.run(tf.global_variables_initializer())\n",
    "    \n",
    "    # Training cycle\n",
    "    for epoch in range(epochs):\n",
    "        # Loop over all batches\n",
    "        n_batches = 5\n",
    "        for batch_i in range(1, n_batches + 1):\n",
    "            for batch_features, batch_labels in helper.load_preprocess_training_batch(batch_i, batch_size):\n",
    "                train_neural_network(sess, optimizer, keep_probability, batch_features, batch_labels)\n",
    "            print('Epoch {:>2}, CIFAR-10 Batch {}:  '.format(epoch + 1, batch_i), end='')\n",
    "            print_stats(sess, batch_features, batch_labels, cost, accuracy)\n",
    "            \n",
    "    # Save Model\n",
    "    saver = tf.train.Saver()\n",
    "    save_path = saver.save(sess, save_model_path)"
   ]
  },
  {
   "cell_type": "markdown",
   "metadata": {},
   "source": [
    "# Checkpoint\n",
    "The model has been saved to disk.\n",
    "## Test Model\n",
    "Test your model against the test dataset.  This will be your final accuracy. You should have an accuracy greater than 50%. If you don't, keep tweaking the model architecture and parameters."
   ]
  },
  {
   "cell_type": "code",
   "execution_count": 93,
   "metadata": {},
   "outputs": [
    {
     "name": "stdout",
     "output_type": "stream",
     "text": [
      "INFO:tensorflow:Restoring parameters from ./image_classification\n",
      "Testing Accuracy: 0.6702722907066345\n",
      "\n"
     ]
    },
    {
     "data": {
      "image/png": "[encoded data removed]",
      "text/plain": [
       "<matplotlib.figure.Figure at 0x219fd815b70>"
      ]
     },
     "metadata": {
      "image/png": {
       "height": 319,
       "width": 355
      }
     },
     "output_type": "display_data"
    }
   ],
   "source": [
    "\"\"\"\n",
    "DON'T MODIFY ANYTHING IN THIS CELL\n",
    "\"\"\"\n",
    "%matplotlib inline\n",
    "%config InlineBackend.figure_format = 'retina'\n",
    "\n",
    "import tensorflow as tf\n",
    "import pickle\n",
    "import helper\n",
    "import random\n",
    "\n",
    "# Set batch size if not already set\n",
    "try:\n",
    "    if batch_size:\n",
    "        pass\n",
    "except NameError:\n",
    "    batch_size = 64\n",
    "\n",
    "save_model_path = './image_classification'\n",
    "n_samples = 4\n",
    "top_n_predictions = 3\n",
    "\n",
    "def test_model():\n",
    "    \"\"\"\n",
    "    Test the saved model against the test dataset\n",
    "    \"\"\"\n",
    "\n",
    "    test_features, test_labels = pickle.load(open('preprocess_training.p', mode='rb'))\n",
    "    loaded_graph = tf.Graph()\n",
    "\n",
    "    with tf.Session(graph=loaded_graph) as sess:\n",
    "        # Load model\n",
    "        loader = tf.train.import_meta_graph(save_model_path + '.meta')\n",
    "        loader.restore(sess, save_model_path)\n",
    "\n",
    "        # Get Tensors from loaded model\n",
    "        loaded_x = loaded_graph.get_tensor_by_name('x:0')\n",
    "        loaded_y = loaded_graph.get_tensor_by_name('y:0')\n",
    "        loaded_keep_prob = loaded_graph.get_tensor_by_name('keep_prob:0')\n",
    "        loaded_logits = loaded_graph.get_tensor_by_name('logits:0')\n",
    "        loaded_acc = loaded_graph.get_tensor_by_name('accuracy:0')\n",
    "        \n",
    "        # Get accuracy in batches for memory limitations\n",
    "        test_batch_acc_total = 0\n",
    "        test_batch_count = 0\n",
    "        \n",
    "        for train_feature_batch, train_label_batch in helper.batch_features_labels(test_features, test_labels, batch_size):\n",
    "            test_batch_acc_total += sess.run(\n",
    "                loaded_acc,\n",
    "                feed_dict={loaded_x: train_feature_batch, loaded_y: train_label_batch, loaded_keep_prob: 1.0})\n",
    "            test_batch_count += 1\n",
    "\n",
    "        print('Testing Accuracy: {}\\n'.format(test_batch_acc_total/test_batch_count))\n",
    "\n",
    "        # Print Random Samples\n",
    "        random_test_features, random_test_labels = tuple(zip(*random.sample(list(zip(test_features, test_labels)), n_samples)))\n",
    "        random_test_predictions = sess.run(\n",
    "            tf.nn.top_k(tf.nn.softmax(loaded_logits), top_n_predictions),\n",
    "            feed_dict={loaded_x: random_test_features, loaded_y: random_test_labels, loaded_keep_prob: 1.0})\n",
    "        helper.display_image_predictions(random_test_features, random_test_labels, random_test_predictions)\n",
    "\n",
    "\n",
    "test_model()"
   ]
  },
  {
   "cell_type": "markdown",
   "metadata": {},
   "source": [
    "## Why 50-80% Accuracy?\n",
    "You might be wondering why you can't get an accuracy any higher. First things first, 50% isn't bad for a simple CNN.  Pure guessing would get you 10% accuracy. That's because there are many more techniques that can be applied to your model and we recemmond that once you are done with this project, you explore!\n",
    "\n",
    "## Submitting This Project\n",
    "When submitting this project, make sure to run all the cells before saving the notebook.  Save the notebook file as \"image_classification.ipynb\" and save it as a HTML file under \"File\" -> \"Download as\".  Include the \"helper.py\" and \"problem_unittests.py\" files in your submission."
   ]
  }
 ],
 "metadata": {
  "kernelspec": {
   "display_name": "Python 3",
   "language": "python",
   "name": "python3"
  },
  "language_info": {
   "codemirror_mode": {
    "name": "ipython",
    "version": 3
   },
   "file_extension": ".py",
   "mimetype": "text/x-python",
   "name": "python",
   "nbconvert_exporter": "python",
   "pygments_lexer": "ipython3",
   "version": "3.5.3"
  }
 },
 "nbformat": 4,
 "nbformat_minor": 1
}
